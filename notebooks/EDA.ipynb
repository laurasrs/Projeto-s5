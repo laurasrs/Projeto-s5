import pandas as pd
import plotly.express as px

df = pd.read_csv('/vehicles.csv')
df.head()

# Criar um histograma de exemplo
fig = px.histogram(df, x="odometer")
fig.show()

# Criar um gráfico de dispersão
fig = px.scatter(df, x="odometer", y="price")
fig.show()
